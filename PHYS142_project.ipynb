{
 "cells": [
  {
   "cell_type": "markdown",
   "metadata": {},
   "source": [
    "# PHYS 142 Final Project (Prompt #2)\n",
    "# Spr '22\n",
    "## Group members:\n",
    "### Christian Amezcua, Kentaro Hanson, Anastasia Ordonez"
   ]
  },
  {
   "cell_type": "markdown",
   "metadata": {},
   "source": [
    "*Consider the double-well oscillator for quantum mechanical electron*\n",
    "\n",
    "*(a) Evaluate the ground state energy $E_0$ from the Metropolis Monte Carlo path integral approximation for sufficiently large $\\tau$ so that $E_0$ dominates*\n",
    "\n",
    "*(b) Plot the ground state probability distribution*"
   ]
  },
  {
   "cell_type": "code",
   "execution_count": 2,
   "metadata": {},
   "outputs": [],
   "source": [
    "#import libraries\n",
    "import numpy as np\n",
    "import matplotlib.pyplot as plt\n",
    "from scipy.sparse.linalg import eigs # python adaptation of ARPACK\n",
    "from scipy.sparse import spdiags"
   ]
  },
  {
   "cell_type": "code",
   "execution_count": 3,
   "metadata": {},
   "outputs": [],
   "source": [
    "#set up parameters for double well potential\n",
    "k = 2\n",
    "alpha = 0.4\n",
    "\n",
    "m = 1\n",
    "hbar = 1\n",
    "omega = 1\n",
    "xmin = 1 / np.sqrt(alpha) # absolute value of potential well minima\n",
    "#barrier = 1 / alpha # potential barrier height (unsure if necessary)\n",
    "\n",
    "#sampling parameters\n",
    "n_d = 600 # spatial resolution (num of points sampled)\n",
    "x_0 = -4 # initial position\n",
    "x_d = 4 # final position\n",
    "delta_x = (x_d - x_0) / n_d # spatial step size\n",
    "x_size = n_d + 1 # total spatial steps\n",
    "x = np.linspace(x_0, x_d, x_size) # (n_d + 1) vector of position points\n",
    "\n",
    "N = 8\n",
    "T0 = 2*np.pi\n",
    "delta_t = T0 / 128 # time resolution (more precise, also called epsilon in notes)\n",
    "t_size = 128 # total time steps\n",
    "t_resol = N*delta_t # time resolution (less precise, similar to T0/16 time steps from hw 1)\n",
    "t = np.linspace(0,t_size * t_resol,t_size)\n"
   ]
  },
  {
   "cell_type": "code",
   "execution_count": 4,
   "metadata": {},
   "outputs": [],
   "source": [
    "# input vector of wave function/probability amplitude to normalize\n",
    "def normalize(psi):\n",
    "  #manually sum up (inner prod) and multiply by delta_x\n",
    "  #(recall riemann sum)\n",
    "  check = np.zeros(len(psi),dtype = np.complex64)\n",
    "  for i in range(len(psi)):\n",
    "    check[i] = np.conjugate(psi[i]) * psi[i] * delta_x\n",
    "  Asquared = sum(check)  #if equal to 1, is normalized\n",
    "  A = 1 / np.sqrt(Asquared) # normalization factor\n",
    "  normalized_psi = A * psi\n",
    "  return normalized_psi\n",
    "\n",
    "# for graphing probability density of wavefunction\n",
    "def prob_density(psi):\n",
    "  return np.real(np.conjugate(psi) * psi)\n",
    "\n",
    "# double well potential\n",
    "def double_well_potential(x):\n",
    "  #ans = alpha * (x - xmin)**2 * (x + xmin)**2 # equivalent expression\n",
    "  ans = -k * x**2 + alpha * x**4 + (1 / alpha)\n",
    "  return ans\n",
    "\n",
    "#constructing potential vector\n",
    "vx = np.zeros(x_size)\n",
    "for i in range(x_size):\n",
    "  vx[i] = double_well_potential(x[i])"
   ]
  },
  {
   "cell_type": "markdown",
   "metadata": {},
   "source": []
  },
  {
   "cell_type": "code",
   "execution_count": 5,
   "metadata": {},
   "outputs": [
    {
     "data": {
      "image/png": "[encoded data removed]",
      "text/plain": [
       "<Figure size 432x288 with 1 Axes>"
      ]
     },
     "metadata": {
      "needs_background": "light"
     },
     "output_type": "display_data"
    }
   ],
   "source": [
    "plt.plot(x,vx,'k--',label=\"V\")\n",
    "plt.xlabel(\"x\")\n",
    "plt.ylabel(r\"$\\psi$\")\n",
    "plt.legend()\n",
    "plt.show()"
   ]
  },
  {
   "cell_type": "code",
   "execution_count": null,
   "metadata": {},
   "outputs": [],
   "source": []
  }
 ],
 "metadata": {
  "interpreter": {
   "hash": "24b029fc6861ca307f2cb37b12b208b7c52ee79630701733177aebe2e936da44"
  },
  "kernelspec": {
   "display_name": "Python 3.9.7 ('base')",
   "language": "python",
   "name": "python3"
  },
  "language_info": {
   "codemirror_mode": {
    "name": "ipython",
    "version": 3
   },
   "file_extension": ".py",
   "mimetype": "text/x-python",
   "name": "python",
   "nbconvert_exporter": "python",
   "pygments_lexer": "ipython3",
   "version": "3.9.7"
  },
  "orig_nbformat": 4
 },
 "nbformat": 4,
 "nbformat_minor": 2
}
