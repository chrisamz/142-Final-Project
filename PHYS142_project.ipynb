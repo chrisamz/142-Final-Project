{
  "cells": [
    {
      "cell_type": "markdown",
      "metadata": {
        "id": "view-in-github",
        "colab_type": "text"
      },
      "source": [
        "<a href=\"https://colab.research.google.com/github/chrisamz/142-Final-Project/blob/main/PHYS142_project.ipynb\" target=\"_parent\"><img src=\"https://colab.research.google.com/assets/colab-badge.svg\" alt=\"Open In Colab\"/></a>"
      ]
    },
    {
      "cell_type": "markdown",
      "metadata": {
        "id": "em-W5MrK3cau"
      },
      "source": [
        "https://drive.google.com/file/d/1TJVSK3aUGGQ6amTyqyrE8NIjCR4_i9_o/view?usp=sharing"
      ]
    },
    {
      "cell_type": "markdown",
      "metadata": {
        "id": "_ayj_uSm3bC-"
      },
      "source": [
        "updates\n",
        "\n",
        "8pm sat: \n",
        "\n",
        "i think rho and mcmc function are drafted for the most part, just unsure about the x_next calculation, and what $\\Delta$ (`delta`) and $ɛ$ (`epsilon`) are?\n",
        "\n",
        "```x_next = x_curr+(choice(path[i]) -0.5)*delta``` (?)\n",
        " - We are looking for a new point within a square of length $\\Delta$, which is done by sampling uniformly in $[-\\Delta/2, \\Delta/2]$ for each axis. Python code would probably be something like `(np.random.rand(numdims) - 0.5)*delta`\n",
        " (see [numpy doc](https://numpy.org/doc/stable/reference/random/generated/numpy.random.rand.html))"
      ]
    },
    {
      "cell_type": "markdown",
      "metadata": {
        "id": "jwKzxSb_UsiD"
      },
      "source": [
        "# PHYS 142 Final Project (Prompt #2)\n",
        "# Spr '22\n",
        "## Group members:\n",
        "### Christian Amezcua, Kentaro Hanson, Anastasia Ordonez"
      ]
    },
    {
      "cell_type": "markdown",
      "metadata": {
        "id": "devyRdvkUsiF"
      },
      "source": [
        "*Consider the double-well oscillator for quantum mechanical electron*\n",
        "\n",
        "### (a)\n",
        "*Evaluate the ground state energy $E_0$ from the Metropolis Monte Carlo path integral approximation for sufficiently large $\\tau$ so that $E_0$ dominates*"
      ]
    },
    {
      "cell_type": "code",
      "execution_count": 5,
      "metadata": {
        "id": "F78zHAHyUsiG"
      },
      "outputs": [],
      "source": [
        "#import libraries\n",
        "import numpy as np\n",
        "import matplotlib.pyplot as plt\n",
        "from scipy.sparse.linalg import eigs # python adaptation of ARPACK\n",
        "from scipy.sparse import spdiags\n",
        "from random import randint\n",
        "from random import random\n",
        "from numpy.random import rand\n"
      ]
    },
    {
      "cell_type": "markdown",
      "metadata": {
        "id": "F5NMH5YXO7qB"
      },
      "source": [
        "#### parameters (taken from previous assignments)"
      ]
    },
    {
      "cell_type": "code",
      "execution_count": 6,
      "metadata": {
        "id": "DWytR1F0UsiI"
      },
      "outputs": [],
      "source": [
        "m = 1\n",
        "hbar = 1\n",
        "omega = 1\n",
        "#xmin = 1 / np.sqrt(alpha) # absolute value of potential well minima\n",
        "#barrier = 1 / alpha # potential barrier height (unsure if necessary)\n",
        "\n",
        "#sampling parameters\n",
        "n_d = 600 # spatial resolution (num of points sampled)\n",
        "x_0 = -4 # lower spatial bound\n",
        "x_d = 4 # higher spatial bound\n",
        "delta_x = (x_d - x_0) / n_d # spatial step size\n",
        "x_size = n_d + 1 # total spatial steps\n",
        "x = np.linspace(x_0, x_d, x_size) # (n_d + 1) vector of position points\n",
        "\n",
        "N = 1000\n",
        "T0 = 2*np.pi\n",
        "delta_t = T0 / 128 # epsilon / time resolution (more precise, also called epsilon in notes)\n",
        "t_size = 128 # total time steps\n",
        "#t = np.linspace(0,t_size * tau,t_size)"
      ]
    },
    {
      "cell_type": "code",
      "execution_count": 21,
      "metadata": {
        "id": "Xz51gaurUsiJ"
      },
      "outputs": [],
      "source": [
        "# input vector of wave function/probability amplitude to normalize\n",
        "def normalize(psi):\n",
        "  #manually sum up (inner prod) and multiply by delta_x\n",
        "  #(recall riemann sum)\n",
        "  check = np.zeros(len(psi),dtype = np.complex64)\n",
        "  for i in range(len(psi)):\n",
        "    check[i] = np.conjugate(psi[i]) * psi[i] * delta_x\n",
        "  Asquared = sum(check)  #if equal to 1, is normalized\n",
        "  A = 1 / np.sqrt(Asquared) # normalization factor\n",
        "  normalized_psi = A * psi\n",
        "  return normalized_psi\n",
        "\n",
        "# for graphing probability density of wavefunction\n",
        "#def graph_prob_density(psi):\n",
        "#  return np.real(np.conjugate(psi) * psi)\n",
        "\n",
        "# double well potential\n",
        "def double_well_potential(x):\n",
        "  k = 2\n",
        "  alpha = 0.4\n",
        "  #ans = alpha * (x - xmin)**2 * (x + xmin)**2 # equivalent expression\n",
        "  ans = -k * x**2 + alpha * x**4 + (1 / alpha)\n",
        "  #xmin = 1 / np.sqrt(alpha) # absolute value of potential well minima\n",
        "  return ans"
      ]
    },
    {
      "cell_type": "code",
      "source": [
        "1/np.sqrt(0.4)"
      ],
      "metadata": {
        "colab": {
          "base_uri": "https://localhost:8080/"
        },
        "id": "MIS-clAvR95p",
        "outputId": "d10930af-1fc2-4f8b-90d4-b2fa8fbec9bf"
      },
      "execution_count": 23,
      "outputs": [
        {
          "output_type": "execute_result",
          "data": {
            "text/plain": [
              "1.5811388300841895"
            ]
          },
          "metadata": {},
          "execution_count": 23
        }
      ]
    },
    {
      "cell_type": "markdown",
      "metadata": {
        "id": "LXwaa-ppPGT1"
      },
      "source": [
        "#### define probability density expression $\\rho_\\tau(x)$ and mcmc function to start choosing points"
      ]
    },
    {
      "cell_type": "code",
      "execution_count": 24,
      "metadata": {
        "id": "tTYcwAR7WlfL"
      },
      "outputs": [],
      "source": [
        "num_configs = 10000 # length of electron path aka number of configurations/points in path\n",
        "n = 1 # dimension of configuration (here, 3d as shown above)\n",
        "\n",
        "markovtime = [i for i in range(num_configs)]\n",
        "\n",
        "#creates path that will be used to calculate E0\n",
        "def mcmc(rho_func,num_configs,n,delta=0.6,x_init=None):\n",
        "  \"\"\"returns FULL path markov chain starting with a random point in range\n",
        "    \n",
        "    - rho_func       prob density function\n",
        "    - num_samples   number of samples to take (len(path))\n",
        "    \n",
        "    - n             dimensions of coordinates\n",
        "\n",
        "    - delta         (optional) the length of the hypercube to sample from as in\n",
        "                    the metropolis update. (default: 1)\n",
        "\n",
        "  \"\"\"\n",
        "  #initialize path matrix/array of arrays representing the coordinates\n",
        "  #will update in MCMC code as we continuously choose next position\n",
        "  path = np.zeros((num_configs, n),dtype=np.float64)\n",
        "  #choose starting point (random)\n",
        "  #from parameters: x_0 = -4 and x_d = 4\n",
        "  if x_init == None:\n",
        "    path[0] = [0 for i in range(n)]\n",
        "  else:\n",
        "    path[0] = x_init\n",
        "  path[num_configs - 1] = path[0] # initial position = final position of electron\n",
        "  print(\"initial and final position of electron: \",path[0])\n",
        "  \n",
        "  #initialize energy vector and prob dens(same length as path)\n",
        "  E = np.zeros(num_configs,dtype=np.float64)\n",
        "  r = np.zeros(num_configs,dtype=np.float64)\n",
        "\n",
        "  #start making path\n",
        "  for i in range(len(path) - 1): #don't do last one, since already defined by the periodic condition\n",
        "    a = 0\n",
        "    x_curr = path[i] #current position\n",
        "    path[i+1] = x_curr #dummy next position\n",
        "    for xi in range(n): #iterate through each coord/config dimension e.g (x0,x1,x2)\n",
        "      \n",
        "      while a != 1:\n",
        "        #find next position\n",
        "        xi_next = x_curr[xi] + (random() - 0.5) * delta\n",
        "        x_trial = path[i+1]\n",
        "        x_trial[xi] = xi_next #replaces x0,x1,...or xn in current coordinate\n",
        "\n",
        "        #calculate probability density and E for trial coord/config\n",
        "        rho_prime = rho_func(x_trial)\n",
        "        rho_curr = rho_func(x_curr)\n",
        "        \n",
        "        #compare above for acceptance process\n",
        "        # AXX' is `a`\n",
        "        if rho_prime[0] >= rho_curr[0]:\n",
        "          #accept\n",
        "          a = 1\n",
        "          #record/update prime (next) energy and probabilty density\n",
        "          E[i+1] = rho_prime[1]\n",
        "          r[i+1] = rho_prime[0]\n",
        "        else:\n",
        "          a = rho_prime[0] / rho_curr[0]\n",
        "          if random() < a: #generate random # and accept if r < AXX'\n",
        "            a = 1\n",
        "            #record/update prime (next) energy and probabilty density\n",
        "            E[i+1] = rho_prime[1]\n",
        "            r[i+1] = rho_prime[0]\n",
        "\n",
        "      #new coord is chosen! update/reset AXX' and choose next\n",
        "      path[i+1][xi] = xi_next\n",
        "      a = 0\n",
        "  return path, E, r"
      ]
    },
    {
      "cell_type": "code",
      "execution_count": null,
      "metadata": {
        "id": "Ko6yYPY3X-eS"
      },
      "outputs": [],
      "source": [
        "#helper method to mcmc\n",
        "#calculate probability density for each configuration/coordinate in choosing process\n",
        "\n",
        "#we want big tau (tau = N*epsilon)\n",
        "def rho(coord, epsilon=delta_t):\n",
        "  \"\"\"returns probability density [0] and total E [1] for given coordinate/configuration\n",
        "       for double well potential\n",
        "\n",
        "    - coord     coordinate or configuration for calculation\n",
        "\n",
        "    - epsilon   (default = delta_t) time resolution (?)\n",
        "\n",
        "  \"\"\"\n",
        "  if hasattr(coord,\"__len__\"): #coord is a vector\n",
        "    n = len(coord) # dimensions of coord\n",
        "\n",
        "    #kinetic energy\n",
        "    kesum = [(coord[i] - coord[i-1])**2 for i in range(1,len(coord))]\n",
        "    kesum.append( (coord[ len(coord)-1 ] - coord[0])**2 ) #closed ring (? referring to lab session may 26)\n",
        "    ke = m /(2*hbar*epsilon) * sum(kesum)\n",
        "\n",
        "    #potential energy\n",
        "    #`vvariable` replaces `x` in the potential energy formula for\n",
        "    # `1/2 * (x[i-1] + x[i])`\n",
        "    vvariable = [1/2 * (coord[i-1] + coord[i]) for i in range(1,len(coord))]\n",
        "    vvariable.append(1/2 * (coord[ len(coord) - 1 ] + coord[0]) ) #closed ring\n",
        "    vsum = [double_well_potential(vvariable[i]) for i in range(len(vvariable))]\n",
        "    v = epsilon / hbar * sum(vsum)\n",
        "\n",
        "  else: #coord single dimension\n",
        "    n = 1 # dimensions of coord\n",
        "\n",
        "    #kinetic energy\n",
        "    ke = m /(2*hbar*epsilon) * coord**2\n",
        "    \n",
        "    #potential energy\n",
        "    v = epsilon / hbar * double_well_potential(coord)\n",
        "\n",
        "  #total E *tau = (K + V )*tau\n",
        "  etotaltau = ke + v\n",
        "  tau = n*epsilon\n",
        "  rho = np.exp(-etotaltau) #probability density = exp(-E*tau)\n",
        "\n",
        "  return rho, etotaltau / tau"
      ]
    },
    {
      "cell_type": "code",
      "execution_count": 197,
      "metadata": {
        "id": "gSy-U1AZ7Oht",
        "colab": {
          "base_uri": "https://localhost:8080/"
        },
        "outputId": "5cd18dc4-6859-48b3-ee42-e72a85dfaed1"
      },
      "outputs": [
        {
          "output_type": "stream",
          "name": "stdout",
          "text": [
            "initial and final position of electron:  [0.]\n"
          ]
        }
      ],
      "source": [
        "[path1,E1, r1] = mcmc(rho,num_configs,n) # without tau exp\n",
        "#[path2,E2,r2] = mcmc(rhotau,num_configs,n) # with tau exp"
      ]
    },
    {
      "cell_type": "code",
      "execution_count": 189,
      "metadata": {
        "id": "bgBYd9-czR-S",
        "colab": {
          "base_uri": "https://localhost:8080/",
          "height": 283
        },
        "outputId": "5b14b516-8922-43d9-91a6-b4b102abe737"
      },
      "outputs": [
        {
          "output_type": "display_data",
          "data": {
            "text/plain": [
              "<Figure size 432x288 with 1 Axes>"
            ],
            "image/png": "[encoded data removed]"
          },
          "metadata": {
            "needs_background": "light"
          }
        }
      ],
      "source": [
        "plt.plot(path1,r1,label=r\"$\\rho(x)$ without exp($\\tau$)\")\n",
        "plt.plot(path1,double_well_potential(path1),label=\"V(x)\")\n",
        "plt.ylim([-1,4])\n",
        "plt.legend()\n",
        "plt.xlabel(\"x\")\n",
        "plt.ylabel(r\"$\\rho$\")\n",
        "plt.show()"
      ]
    },
    {
      "cell_type": "code",
      "source": [
        "plt.plot([i for i in range(num_configs)],E1)\n",
        "#plt.plot([i for i in range(num_configs)],E2,label=r\"with exp($\\tau$)\")\n",
        "plt.xlabel(r\"$\\tau$\")\n",
        "plt.ylabel(\"E\")\n",
        "#plt.legend()\n",
        "plt.show()"
      ],
      "metadata": {
        "colab": {
          "base_uri": "https://localhost:8080/",
          "height": 296
        },
        "id": "nwppKAu27nC_",
        "outputId": "34036829-5914-40d3-eb09-2d19c9a6afca"
      },
      "execution_count": 198,
      "outputs": [
        {
          "output_type": "stream",
          "name": "stderr",
          "text": [
            "No handles with labels found to put in legend.\n"
          ]
        },
        {
          "output_type": "display_data",
          "data": {
            "text/plain": [
              "<Figure size 432x288 with 1 Axes>"
            ],
            "image/png": "[encoded data removed]"
          },
          "metadata": {
            "needs_background": "light"
          }
        }
      ]
    },
    {
      "cell_type": "code",
      "source": [
        "#trying to fix and make clearer\n",
        "def rho2(coord, epsilon=delta_t):\n",
        "  \"\"\"returns probability density [0] and total E [1] for given coordinate/configuration\n",
        "       for double well potential\n",
        "\n",
        "    - coord     coordinate or configuration for calculation\n",
        "\n",
        "    - epsilon   (default = delta_t) time resolution (?)\n",
        "\n",
        "  \"\"\"\n",
        "  if hasattr(coord,\"__len__\"): #coord is a vector\n",
        "    n = len(coord) # dimensions of coord\n",
        "\n",
        "    #kinetic energy\n",
        "    kesum = [(coord[i] - coord[i-1])**2 for i in range(1,len(coord))]\n",
        "    kesum.append( (coord[ len(coord)-1 ] - coord[0])**2 ) #closed ring (? referring to lab session may 26)\n",
        "    ke = m /(2*epsilon**2) * sum(kesum)\n",
        "\n",
        "    #potential energy\n",
        "    #`vvariable` replaces `x` in the potential energy formula for\n",
        "    # `1/2 * (x[i-1] + x[i])`\n",
        "    vvariable = [1/2 * (coord[i-1] + coord[i]) for i in range(1,len(coord))]\n",
        "    vvariable.append(1/2 * (coord[ len(coord) - 1 ] + coord[0]) ) #closed ring\n",
        "    vsum = [double_well_potential(vvariable[i]) for i in range(len(vvariable))]\n",
        "    v = sum(vsum)\n",
        "\n",
        "  else: #coord single dimension\n",
        "    n = 1 # dimensions of coord\n",
        "\n",
        "    #kinetic energy\n",
        "    ke = m /(2*epsilon**2) * coord**2\n",
        "    \n",
        "    #potential energy\n",
        "    v = double_well_potential(coord)\n",
        "\n",
        "  #total E *tau = (K + V )*tau\n",
        "  etotal = (ke + v) / n\n",
        "  tau = n*epsilon\n",
        "  rho = np.exp(-etotal*tau) #probability density = exp(-E*tau)\n",
        "\n",
        "  return rho, etotal"
      ],
      "metadata": {
        "id": "eSBAvrd1KFRe"
      },
      "execution_count": 9,
      "outputs": []
    },
    {
      "cell_type": "code",
      "source": [
        "num_configs = 10000\n",
        "[path2,E2,r2] = mcmc(rho2,num_configs,n,delta = 0.1, x_init = 1.58)\n",
        "plt.plot([i for i in range(num_configs)],E2)\n",
        "plt.xlabel(r\"$\\tau$\")\n",
        "plt.ylabel(\"E\")\n",
        "#plt.legend()\n",
        "plt.show()"
      ],
      "metadata": {
        "colab": {
          "base_uri": "https://localhost:8080/",
          "height": 296
        },
        "id": "p9Quxu18Mylr",
        "outputId": "1a3e28d4-d01a-455e-94c6-1a626e23d812"
      },
      "execution_count": 33,
      "outputs": [
        {
          "output_type": "stream",
          "name": "stdout",
          "text": [
            "initial and final position of electron:  [1.58]\n"
          ]
        },
        {
          "output_type": "display_data",
          "data": {
            "text/plain": [
              "<Figure size 432x288 with 1 Axes>"
            ],
            "image/png": "[encoded data removed]"
          },
          "metadata": {
            "needs_background": "light"
          }
        }
      ]
    },
    {
      "cell_type": "code",
      "source": [
        "plt.plot(path2,r2,label=r\"$\\rho(x)$ from rho2()\")\n",
        "plt.plot(path2,double_well_potential(path2),label=\"V(x)\")\n",
        "plt.ylim([-1,4])\n",
        "plt.legend()\n",
        "plt.xlabel(\"x\")\n",
        "plt.ylabel(r\"$\\rho$\")\n",
        "plt.show()"
      ],
      "metadata": {
        "colab": {
          "base_uri": "https://localhost:8080/",
          "height": 283
        },
        "id": "gx_aMmWjNoLn",
        "outputId": "6fa962a8-876c-4ff0-9011-3c2545eb2a90"
      },
      "execution_count": 34,
      "outputs": [
        {
          "output_type": "display_data",
          "data": {
            "text/plain": [
              "<Figure size 432x288 with 1 Axes>"
            ],
            "image/png": "[encoded data removed]"
          },
          "metadata": {
            "needs_background": "light"
          }
        }
      ]
    },
    {
      "cell_type": "markdown",
      "source": [
        "#### disregard"
      ],
      "metadata": {
        "id": "s2MjD2tAIfJv"
      }
    },
    {
      "cell_type": "code",
      "source": [
        "#helper method to mcmc\n",
        "#calculate probability density for each configuration/coordinate in choosing process\n",
        "\n",
        "#we want big tau (tau = N*epsilon)\n",
        "def rhotau(coord, epsilon=delta_t):\n",
        "  \"\"\"returns probability density [0] and total E [1] for given coordinate/configuration\n",
        "       for double well potential\n",
        "\n",
        "    - coord     coordinate or configuration for calculation\n",
        "\n",
        "    - epsilon   (default = delta_t) time resolution (?)\n",
        "\n",
        "  \"\"\"\n",
        "  if hasattr(coord,\"__len__\"): #coord is a vector\n",
        "    n = len(coord) # dimensions of coord\n",
        "\n",
        "    #kinetic energy\n",
        "    kesum = [(coord[i] - coord[i-1])**2 for i in range(1,len(coord))]\n",
        "    kesum.append( (coord[ len(coord)-1 ] - coord[0])**2 ) #closed ring (? referring to lab session may 26)\n",
        "    ke = m /(2*hbar*epsilon) * sum(kesum)\n",
        "\n",
        "    #potential energy\n",
        "    #`vvariable` replaces `x` in the potential energy formula for\n",
        "    # `1/2 * (x[i-1] + x[i])`\n",
        "    vvariable = [1/2 * (coord[i-1] + coord[i]) for i in range(1,len(coord))]\n",
        "    vvariable.append(1/2 * (coord[ len(coord) - 1 ] + coord[0]) ) #closed ring\n",
        "    vsum = [double_well_potential(vvariable[i]) for i in range(len(vvariable))]\n",
        "    v = epsilon / hbar * sum(vsum)\n",
        "\n",
        "  else: #coord single dimension\n",
        "    n = 1 # dimensions of coord\n",
        "\n",
        "    #kinetic energy\n",
        "    ke = m /(2*hbar*epsilon) * coord**2\n",
        "    \n",
        "    #potential energy\n",
        "    v = epsilon / hbar * double_well_potential(coord)\n",
        "\n",
        "  #total E = K + V\n",
        "  etotal = ke + v\n",
        "  tau = n*epsilon\n",
        "  rho = np.exp(-etotal*tau) #probability density = exp(-E*tau)\n",
        "\n",
        "  return rho, etotal"
      ],
      "metadata": {
        "id": "gJiGROA_AEg7"
      },
      "execution_count": 186,
      "outputs": []
    },
    {
      "cell_type": "markdown",
      "metadata": {
        "id": "e5XBEBrbN7HA"
      },
      "source": [
        "### (b)\n",
        "*Plot the ground state probability distribution*"
      ]
    },
    {
      "cell_type": "code",
      "execution_count": null,
      "metadata": {
        "id": "YAFej7YQ62_m"
      },
      "outputs": [],
      "source": [
        ""
      ]
    },
    {
      "cell_type": "code",
      "execution_count": null,
      "metadata": {
        "id": "Vz2qr9onUsiK"
      },
      "outputs": [],
      "source": [
        "plt.plot(x,vx,'k--',label=\"V\")\n",
        "plt.xlabel(\"x\")\n",
        "plt.ylabel(r\"$\\psi$\")\n",
        "plt.legend()\n",
        "plt.show()"
      ]
    },
    {
      "cell_type": "markdown",
      "metadata": {
        "id": "lA9D5BMvN6d6"
      },
      "source": [
        "### (c)\n",
        "*Can you calculate the average energy $<E>$ of the electron from the same simulation code when $\\tau$ is much lower than in (a)*"
      ]
    },
    {
      "cell_type": "markdown",
      "metadata": {
        "id": "6ZalVw66N_nb"
      },
      "source": [
        "### (d)\n",
        "*Evaluate from the MC code (follow the hint) the probabilty distribution $\\rho(x) = Σ \\vert \\psi_n(x)\\vert^2 * p_n$ toward the $\\tau → ∞$*"
      ]
    },
    {
      "cell_type": "code",
      "execution_count": null,
      "metadata": {
        "id": "JhHcoBwzUsiM"
      },
      "outputs": [],
      "source": [
        " "
      ]
    }
  ],
  "metadata": {
    "colab": {
      "collapsed_sections": [],
      "name": "PHYS142_project.ipynb",
      "provenance": [],
      "include_colab_link": true
    },
    "interpreter": {
      "hash": "24b029fc6861ca307f2cb37b12b208b7c52ee79630701733177aebe2e936da44"
    },
    "kernelspec": {
      "display_name": "Python 3.9.7 ('base')",
      "language": "python",
      "name": "python3"
    },
    "language_info": {
      "codemirror_mode": {
        "name": "ipython",
        "version": 3
      },
      "file_extension": ".py",
      "mimetype": "text/x-python",
      "name": "python",
      "nbconvert_exporter": "python",
      "pygments_lexer": "ipython3",
      "version": "3.9.7"
    }
  },
  "nbformat": 4,
  "nbformat_minor": 0
}